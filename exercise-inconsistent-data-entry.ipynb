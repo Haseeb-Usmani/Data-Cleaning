{
 "cells": [
  {
   "cell_type": "markdown",
   "id": "1f8a5fa6",
   "metadata": {
    "papermill": {
     "duration": 0.006531,
     "end_time": "2023-04-30T23:21:49.947424",
     "exception": false,
     "start_time": "2023-04-30T23:21:49.940893",
     "status": "completed"
    },
    "tags": []
   },
   "source": [
    "**This notebook is an exercise in the [Data Cleaning](https://www.kaggle.com/learn/data-cleaning) course.  You can reference the tutorial at [this link](https://www.kaggle.com/alexisbcook/inconsistent-data-entry).**\n",
    "\n",
    "---\n"
   ]
  },
  {
   "cell_type": "markdown",
   "id": "1e0dfe8d",
   "metadata": {
    "papermill": {
     "duration": 0.006155,
     "end_time": "2023-04-30T23:21:49.959033",
     "exception": false,
     "start_time": "2023-04-30T23:21:49.952878",
     "status": "completed"
    },
    "tags": []
   },
   "source": [
    "In this exercise, you'll apply what you learned in the **Inconsistent data entry** tutorial.\n",
    "\n",
    "# Setup\n",
    "\n",
    "The questions below will give you feedback on your work. Run the following cell to set up the feedback system."
   ]
  },
  {
   "cell_type": "code",
   "execution_count": 1,
   "id": "91d0886b",
   "metadata": {
    "execution": {
     "iopub.execute_input": "2023-04-30T23:21:49.971380Z",
     "iopub.status.busy": "2023-04-30T23:21:49.970851Z",
     "iopub.status.idle": "2023-04-30T23:21:50.180323Z",
     "shell.execute_reply": "2023-04-30T23:21:50.179034Z"
    },
    "papermill": {
     "duration": 0.219248,
     "end_time": "2023-04-30T23:21:50.183385",
     "exception": false,
     "start_time": "2023-04-30T23:21:49.964137",
     "status": "completed"
    },
    "tags": []
   },
   "outputs": [
    {
     "name": "stdout",
     "output_type": "stream",
     "text": [
      "Setup Complete\n"
     ]
    }
   ],
   "source": [
    "from learntools.core import binder\n",
    "binder.bind(globals())\n",
    "from learntools.data_cleaning.ex5 import *\n",
    "print(\"Setup Complete\")"
   ]
  },
  {
   "cell_type": "markdown",
   "id": "cfa5b3e2",
   "metadata": {
    "papermill": {
     "duration": 0.005256,
     "end_time": "2023-04-30T23:21:50.194021",
     "exception": false,
     "start_time": "2023-04-30T23:21:50.188765",
     "status": "completed"
    },
    "tags": []
   },
   "source": [
    "# Get our environment set up\n",
    "\n",
    "The first thing we'll need to do is load in the libraries and dataset we'll be using.  We use the same dataset from the tutorial."
   ]
  },
  {
   "cell_type": "code",
   "execution_count": 2,
   "id": "4763d791",
   "metadata": {
    "execution": {
     "iopub.execute_input": "2023-04-30T23:21:50.206464Z",
     "iopub.status.busy": "2023-04-30T23:21:50.206044Z",
     "iopub.status.idle": "2023-04-30T23:21:50.223360Z",
     "shell.execute_reply": "2023-04-30T23:21:50.222356Z"
    },
    "papermill": {
     "duration": 0.026429,
     "end_time": "2023-04-30T23:21:50.226023",
     "exception": false,
     "start_time": "2023-04-30T23:21:50.199594",
     "status": "completed"
    },
    "tags": []
   },
   "outputs": [],
   "source": [
    "# modules we'll use\n",
    "import pandas as pd\n",
    "import numpy as np\n",
    "\n",
    "# helpful modules\n",
    "import fuzzywuzzy\n",
    "from fuzzywuzzy import process\n",
    "import charset_normalizer\n",
    "\n",
    "# read in all our data\n",
    "professors = pd.read_csv(\"../input/pakistan-intellectual-capital/pakistan_intellectual_capital.csv\")\n",
    "\n",
    "# set seed for reproducibility\n",
    "np.random.seed(0)"
   ]
  },
  {
   "cell_type": "markdown",
   "id": "eb9de684",
   "metadata": {
    "papermill": {
     "duration": 0.004862,
     "end_time": "2023-04-30T23:21:50.236057",
     "exception": false,
     "start_time": "2023-04-30T23:21:50.231195",
     "status": "completed"
    },
    "tags": []
   },
   "source": [
    "Next, we'll redo all of the work that we did in the tutorial."
   ]
  },
  {
   "cell_type": "code",
   "execution_count": 3,
   "id": "eb4cb60c",
   "metadata": {
    "execution": {
     "iopub.execute_input": "2023-04-30T23:21:50.248485Z",
     "iopub.status.busy": "2023-04-30T23:21:50.247657Z",
     "iopub.status.idle": "2023-04-30T23:21:50.263805Z",
     "shell.execute_reply": "2023-04-30T23:21:50.262425Z"
    },
    "papermill": {
     "duration": 0.02516,
     "end_time": "2023-04-30T23:21:50.266199",
     "exception": false,
     "start_time": "2023-04-30T23:21:50.241039",
     "status": "completed"
    },
    "tags": []
   },
   "outputs": [
    {
     "name": "stdout",
     "output_type": "stream",
     "text": [
      "All done!\n"
     ]
    }
   ],
   "source": [
    "# convert to lower case\n",
    "professors['Country'] = professors['Country'].str.lower()\n",
    "# remove trailing white spaces\n",
    "professors['Country'] = professors['Country'].str.strip()\n",
    "\n",
    "# get the top 10 closest matches to \"south korea\"\n",
    "countries = professors['Country'].unique()\n",
    "matches = fuzzywuzzy.process.extract(\"south korea\", countries, limit=10, scorer=fuzzywuzzy.fuzz.token_sort_ratio)\n",
    "\n",
    "def replace_matches_in_column(df, column, string_to_match, min_ratio = 70):\n",
    "    # get a list of unique strings\n",
    "    strings = df[column].unique()\n",
    "    \n",
    "    # get the top 10 closest matches to our input string\n",
    "    matches = fuzzywuzzy.process.extract(string_to_match, strings, \n",
    "                                         limit=10, scorer=fuzzywuzzy.fuzz.token_sort_ratio)\n",
    "\n",
    "    # only get matches with a ratio > 90\n",
    "    close_matches = [matches[0] for matches in matches if matches[1] >= min_ratio]\n",
    "\n",
    "    # get the rows of all the close matches in our dataframe\n",
    "    rows_with_matches = df[column].isin(close_matches)\n",
    "\n",
    "    # replace all rows with close matches with the input matches \n",
    "    df.loc[rows_with_matches, column] = string_to_match\n",
    "    \n",
    "    # let us know the function's done\n",
    "    print(\"All done!\")\n",
    "    \n",
    "replace_matches_in_column(df=professors, column='Country', string_to_match=\"south korea\")\n",
    "countries = professors['Country'].unique()"
   ]
  },
  {
   "cell_type": "markdown",
   "id": "0e7b5aff",
   "metadata": {
    "papermill": {
     "duration": 0.004893,
     "end_time": "2023-04-30T23:21:50.276240",
     "exception": false,
     "start_time": "2023-04-30T23:21:50.271347",
     "status": "completed"
    },
    "tags": []
   },
   "source": [
    "# 1) Examine another column\n",
    "\n",
    "Write code below to take a look at all the unique values in the \"Graduated from\" column."
   ]
  },
  {
   "cell_type": "code",
   "execution_count": 4,
   "id": "76b2b7b7",
   "metadata": {
    "execution": {
     "iopub.execute_input": "2023-04-30T23:21:50.288619Z",
     "iopub.status.busy": "2023-04-30T23:21:50.287803Z",
     "iopub.status.idle": "2023-04-30T23:21:50.293050Z",
     "shell.execute_reply": "2023-04-30T23:21:50.292162Z"
    },
    "papermill": {
     "duration": 0.014121,
     "end_time": "2023-04-30T23:21:50.295367",
     "exception": false,
     "start_time": "2023-04-30T23:21:50.281246",
     "status": "completed"
    },
    "tags": []
   },
   "outputs": [],
   "source": [
    "# TODO: Your code here\n",
    "uni=professors['Graduated from'].unique"
   ]
  },
  {
   "cell_type": "markdown",
   "id": "9b8b90a8",
   "metadata": {
    "papermill": {
     "duration": 0.004822,
     "end_time": "2023-04-30T23:21:50.305219",
     "exception": false,
     "start_time": "2023-04-30T23:21:50.300397",
     "status": "completed"
    },
    "tags": []
   },
   "source": [
    "Do you notice any inconsistencies in the data?  Can any of the inconsistencies in the data be fixed by removing white spaces at the beginning and end of cells?\n",
    "\n",
    "Once you have answered these questions, run the code cell below to get credit for your work."
   ]
  },
  {
   "cell_type": "code",
   "execution_count": 5,
   "id": "6186091f",
   "metadata": {
    "execution": {
     "iopub.execute_input": "2023-04-30T23:21:50.317431Z",
     "iopub.status.busy": "2023-04-30T23:21:50.316595Z",
     "iopub.status.idle": "2023-04-30T23:21:50.327184Z",
     "shell.execute_reply": "2023-04-30T23:21:50.326209Z"
    },
    "papermill": {
     "duration": 0.019351,
     "end_time": "2023-04-30T23:21:50.329489",
     "exception": false,
     "start_time": "2023-04-30T23:21:50.310138",
     "status": "completed"
    },
    "tags": []
   },
   "outputs": [
    {
     "data": {
      "application/javascript": [
       "parent.postMessage({\"jupyterEvent\": \"custom.exercise_interaction\", \"data\": {\"outcomeType\": 1, \"valueTowardsCompletion\": 0.3333333333333333, \"interactionType\": 1, \"questionType\": 4, \"questionId\": \"1_ExamineProvince\", \"learnToolsVersion\": \"0.3.4\", \"failureMessage\": \"\", \"exceptionClass\": \"\", \"trace\": \"\"}}, \"*\")"
      ],
      "text/plain": [
       "<IPython.core.display.Javascript object>"
      ]
     },
     "metadata": {},
     "output_type": "display_data"
    },
    {
     "data": {
      "text/markdown": [
       "<span style=\"color:#33cc33\">Correct:</span> \n",
       "\n",
       "There are inconsistencies that can be fixed by removing white spaces at the beginning and end of cells.  For instance, \"University of Central Florida\" and \" University of Central Florida\" both appear in the column."
      ],
      "text/plain": [
       "Correct: \n",
       "\n",
       "There are inconsistencies that can be fixed by removing white spaces at the beginning and end of cells.  For instance, \"University of Central Florida\" and \" University of Central Florida\" both appear in the column."
      ]
     },
     "metadata": {},
     "output_type": "display_data"
    }
   ],
   "source": [
    "# Check your answer (Run this code cell to receive credit!)\n",
    "q1.check()"
   ]
  },
  {
   "cell_type": "code",
   "execution_count": 6,
   "id": "2910b9ce",
   "metadata": {
    "execution": {
     "iopub.execute_input": "2023-04-30T23:21:50.342605Z",
     "iopub.status.busy": "2023-04-30T23:21:50.341809Z",
     "iopub.status.idle": "2023-04-30T23:21:50.346522Z",
     "shell.execute_reply": "2023-04-30T23:21:50.345700Z"
    },
    "papermill": {
     "duration": 0.013934,
     "end_time": "2023-04-30T23:21:50.348848",
     "exception": false,
     "start_time": "2023-04-30T23:21:50.334914",
     "status": "completed"
    },
    "tags": []
   },
   "outputs": [],
   "source": [
    "# Line below will give you a hint\n",
    "#q1.hint()"
   ]
  },
  {
   "cell_type": "markdown",
   "id": "6c13a513",
   "metadata": {
    "papermill": {
     "duration": 0.00511,
     "end_time": "2023-04-30T23:21:50.359400",
     "exception": false,
     "start_time": "2023-04-30T23:21:50.354290",
     "status": "completed"
    },
    "tags": []
   },
   "source": [
    "# 2) Do some text pre-processing\n",
    "\n",
    "Convert every entry in the \"Graduated from\" column in the `professors` DataFrame to remove white spaces at the beginning and end of cells."
   ]
  },
  {
   "cell_type": "code",
   "execution_count": 7,
   "id": "3c6b36db",
   "metadata": {
    "execution": {
     "iopub.execute_input": "2023-04-30T23:21:50.373333Z",
     "iopub.status.busy": "2023-04-30T23:21:50.372597Z",
     "iopub.status.idle": "2023-04-30T23:21:50.385660Z",
     "shell.execute_reply": "2023-04-30T23:21:50.384721Z"
    },
    "papermill": {
     "duration": 0.023111,
     "end_time": "2023-04-30T23:21:50.387843",
     "exception": false,
     "start_time": "2023-04-30T23:21:50.364732",
     "status": "completed"
    },
    "tags": []
   },
   "outputs": [
    {
     "data": {
      "application/javascript": [
       "parent.postMessage({\"jupyterEvent\": \"custom.exercise_interaction\", \"data\": {\"outcomeType\": 2, \"failureMessage\": \"Incorrect value for `professors`\", \"interactionType\": 1, \"questionType\": 1, \"questionId\": \"2_TextProcessing\", \"learnToolsVersion\": \"0.3.4\", \"valueTowardsCompletion\": 0.0, \"exceptionClass\": \"\", \"trace\": \"\"}}, \"*\")"
      ],
      "text/plain": [
       "<IPython.core.display.Javascript object>"
      ]
     },
     "metadata": {},
     "output_type": "display_data"
    },
    {
     "data": {
      "text/markdown": [
       "<span style=\"color:#cc3333\">Incorrect:</span> Incorrect value for `professors`"
      ],
      "text/plain": [
       "Incorrect: Incorrect value for `professors`"
      ]
     },
     "metadata": {},
     "output_type": "display_data"
    }
   ],
   "source": [
    "# TODO: Your code here\n",
    "professors['Graduated from'] = professors['Graduated from'].str.strip()\n",
    "\n",
    "\n",
    "# Check your answer\n",
    "q2.check()"
   ]
  },
  {
   "cell_type": "code",
   "execution_count": 8,
   "id": "3e5d3083",
   "metadata": {
    "execution": {
     "iopub.execute_input": "2023-04-30T23:21:50.401215Z",
     "iopub.status.busy": "2023-04-30T23:21:50.400535Z",
     "iopub.status.idle": "2023-04-30T23:21:50.405504Z",
     "shell.execute_reply": "2023-04-30T23:21:50.404370Z"
    },
    "papermill": {
     "duration": 0.014441,
     "end_time": "2023-04-30T23:21:50.407872",
     "exception": false,
     "start_time": "2023-04-30T23:21:50.393431",
     "status": "completed"
    },
    "tags": []
   },
   "outputs": [],
   "source": [
    "# Lines below will give you a hint or solution code\n",
    "#q2.hint()\n",
    "#q2.solution()"
   ]
  },
  {
   "cell_type": "markdown",
   "id": "fe676c8b",
   "metadata": {
    "papermill": {
     "duration": 0.005417,
     "end_time": "2023-04-30T23:21:50.418969",
     "exception": false,
     "start_time": "2023-04-30T23:21:50.413552",
     "status": "completed"
    },
    "tags": []
   },
   "source": [
    "# 3) Continue working with countries\n",
    "\n",
    "In the tutorial, we focused on cleaning up inconsistencies in the \"Country\" column.  Run the code cell below to view the list of unique values that we ended with."
   ]
  },
  {
   "cell_type": "code",
   "execution_count": 9,
   "id": "a9466f74",
   "metadata": {
    "execution": {
     "iopub.execute_input": "2023-04-30T23:21:50.433810Z",
     "iopub.status.busy": "2023-04-30T23:21:50.432036Z",
     "iopub.status.idle": "2023-04-30T23:21:50.442526Z",
     "shell.execute_reply": "2023-04-30T23:21:50.441424Z"
    },
    "papermill": {
     "duration": 0.020207,
     "end_time": "2023-04-30T23:21:50.444906",
     "exception": false,
     "start_time": "2023-04-30T23:21:50.424699",
     "status": "completed"
    },
    "tags": []
   },
   "outputs": [
    {
     "data": {
      "text/plain": [
       "array(['australia', 'austria', 'canada', 'china', 'finland', 'france',\n",
       "       'germany', 'greece', 'hongkong', 'ireland', 'italy', 'japan',\n",
       "       'macau', 'malaysia', 'mauritius', 'netherland', 'new zealand',\n",
       "       'norway', 'pakistan', 'portugal', 'russian federation',\n",
       "       'saudi arabia', 'scotland', 'singapore', 'south korea',\n",
       "       'southkorea', 'spain', 'sweden', 'thailand', 'turkey', 'uk',\n",
       "       'urbana', 'usa', 'usofa'], dtype=object)"
      ]
     },
     "execution_count": 9,
     "metadata": {},
     "output_type": "execute_result"
    }
   ],
   "source": [
    "# get all the unique values in the 'City' column\n",
    "countries = professors['Country'].unique()\n",
    "\n",
    "# sort them alphabetically and then take a closer look\n",
    "countries.sort()\n",
    "countries"
   ]
  },
  {
   "cell_type": "markdown",
   "id": "bf5bc878",
   "metadata": {
    "papermill": {
     "duration": 0.005487,
     "end_time": "2023-04-30T23:21:50.456163",
     "exception": false,
     "start_time": "2023-04-30T23:21:50.450676",
     "status": "completed"
    },
    "tags": []
   },
   "source": [
    "Take another look at the \"Country\" column and see if there's any more data cleaning we need to do.\n",
    "\n",
    "It looks like 'usa' and 'usofa' should be the same country.  Correct the \"Country\" column in the dataframe to replace 'usofa' with 'usa'.\n",
    "\n",
    "**Use the most recent version of the DataFrame (with the whitespaces at the beginning and end of cells removed) from question 2.**"
   ]
  },
  {
   "cell_type": "code",
   "execution_count": 10,
   "id": "95ee9be7",
   "metadata": {
    "execution": {
     "iopub.execute_input": "2023-04-30T23:21:50.470103Z",
     "iopub.status.busy": "2023-04-30T23:21:50.469280Z",
     "iopub.status.idle": "2023-04-30T23:21:50.483048Z",
     "shell.execute_reply": "2023-04-30T23:21:50.482063Z"
    },
    "papermill": {
     "duration": 0.023343,
     "end_time": "2023-04-30T23:21:50.485287",
     "exception": false,
     "start_time": "2023-04-30T23:21:50.461944",
     "status": "completed"
    },
    "tags": []
   },
   "outputs": [
    {
     "name": "stdout",
     "output_type": "stream",
     "text": [
      "All done!\n"
     ]
    },
    {
     "data": {
      "application/javascript": [
       "parent.postMessage({\"jupyterEvent\": \"custom.exercise_interaction\", \"data\": {\"outcomeType\": 2, \"failureMessage\": \"Incorrect value for `professors`\", \"interactionType\": 1, \"questionType\": 1, \"questionId\": \"3_WorkingWithCities\", \"learnToolsVersion\": \"0.3.4\", \"valueTowardsCompletion\": 0.0, \"exceptionClass\": \"\", \"trace\": \"\"}}, \"*\")"
      ],
      "text/plain": [
       "<IPython.core.display.Javascript object>"
      ]
     },
     "metadata": {},
     "output_type": "display_data"
    },
    {
     "data": {
      "text/markdown": [
       "<span style=\"color:#cc3333\">Incorrect:</span> Incorrect value for `professors`"
      ],
      "text/plain": [
       "Incorrect: Incorrect value for `professors`"
      ]
     },
     "metadata": {},
     "output_type": "display_data"
    }
   ],
   "source": [
    "# TODO: Your code here!\n",
    "replace_matches_in_column(df=professors, column='Country', string_to_match='usa')\n",
    "\n",
    "# Check your answer\n",
    "q3.check()"
   ]
  },
  {
   "cell_type": "code",
   "execution_count": 11,
   "id": "5e94b4cc",
   "metadata": {
    "execution": {
     "iopub.execute_input": "2023-04-30T23:21:50.499461Z",
     "iopub.status.busy": "2023-04-30T23:21:50.498827Z",
     "iopub.status.idle": "2023-04-30T23:21:50.512583Z",
     "shell.execute_reply": "2023-04-30T23:21:50.511409Z"
    },
    "papermill": {
     "duration": 0.02349,
     "end_time": "2023-04-30T23:21:50.514819",
     "exception": false,
     "start_time": "2023-04-30T23:21:50.491329",
     "status": "completed"
    },
    "tags": []
   },
   "outputs": [
    {
     "data": {
      "application/javascript": [
       "parent.postMessage({\"jupyterEvent\": \"custom.exercise_interaction\", \"data\": {\"interactionType\": 2, \"questionType\": 1, \"questionId\": \"3_WorkingWithCities\", \"learnToolsVersion\": \"0.3.4\", \"valueTowardsCompletion\": 0.0, \"failureMessage\": \"\", \"exceptionClass\": \"\", \"trace\": \"\", \"outcomeType\": 4}}, \"*\")"
      ],
      "text/plain": [
       "<IPython.core.display.Javascript object>"
      ]
     },
     "metadata": {},
     "output_type": "display_data"
    },
    {
     "data": {
      "text/markdown": [
       "<span style=\"color:#3366cc\">Hint:</span> Use the `replace_matches_in_column()` function defined above."
      ],
      "text/plain": [
       "Hint: Use the `replace_matches_in_column()` function defined above."
      ]
     },
     "metadata": {},
     "output_type": "display_data"
    },
    {
     "data": {
      "application/javascript": [
       "parent.postMessage({\"jupyterEvent\": \"custom.exercise_interaction\", \"data\": {\"interactionType\": 3, \"questionType\": 1, \"questionId\": \"3_WorkingWithCities\", \"learnToolsVersion\": \"0.3.4\", \"valueTowardsCompletion\": 0.0, \"failureMessage\": \"\", \"exceptionClass\": \"\", \"trace\": \"\", \"outcomeType\": 4}}, \"*\")"
      ],
      "text/plain": [
       "<IPython.core.display.Javascript object>"
      ]
     },
     "metadata": {},
     "output_type": "display_data"
    },
    {
     "data": {
      "text/markdown": [
       "<span style=\"color:#33cc99\">Solution:</span> \n",
       "```python\n",
       "matches = fuzzywuzzy.process.extract(\"usa\", countries, limit=10, scorer=fuzzywuzzy.fuzz.token_sort_ratio)\n",
       "replace_matches_in_column(df=professors, column='Country', string_to_match=\"usa\", min_ratio=70)\n",
       "\n",
       "```"
      ],
      "text/plain": [
       "Solution: \n",
       "```python\n",
       "matches = fuzzywuzzy.process.extract(\"usa\", countries, limit=10, scorer=fuzzywuzzy.fuzz.token_sort_ratio)\n",
       "replace_matches_in_column(df=professors, column='Country', string_to_match=\"usa\", min_ratio=70)\n",
       "\n",
       "```"
      ]
     },
     "metadata": {},
     "output_type": "display_data"
    }
   ],
   "source": [
    "# Lines below will give you a hint or solution code\n",
    "q3.hint()\n",
    "q3.solution()"
   ]
  },
  {
   "cell_type": "markdown",
   "id": "62048c66",
   "metadata": {
    "papermill": {
     "duration": 0.006426,
     "end_time": "2023-04-30T23:21:50.527850",
     "exception": false,
     "start_time": "2023-04-30T23:21:50.521424",
     "status": "completed"
    },
    "tags": []
   },
   "source": [
    "# Congratulations!\n",
    "\n",
    "Congratulations for completing the **Data Cleaning** course on Kaggle Learn!\n",
    "\n",
    "To practice your new skills, you're encouraged to download and investigate some of [Kaggle's Datasets](https://www.kaggle.com/datasets)."
   ]
  },
  {
   "cell_type": "markdown",
   "id": "33dd815b",
   "metadata": {
    "papermill": {
     "duration": 0.006315,
     "end_time": "2023-04-30T23:21:50.540675",
     "exception": false,
     "start_time": "2023-04-30T23:21:50.534360",
     "status": "completed"
    },
    "tags": []
   },
   "source": [
    "---\n",
    "\n",
    "\n",
    "\n",
    "\n",
    "*Have questions or comments? Visit the [course discussion forum](https://www.kaggle.com/learn/data-cleaning/discussion) to chat with other learners.*"
   ]
  }
 ],
 "metadata": {
  "kernelspec": {
   "display_name": "Python 3",
   "language": "python",
   "name": "python3"
  },
  "language_info": {
   "codemirror_mode": {
    "name": "ipython",
    "version": 3
   },
   "file_extension": ".py",
   "mimetype": "text/x-python",
   "name": "python",
   "nbconvert_exporter": "python",
   "pygments_lexer": "ipython3",
   "version": "3.7.12"
  },
  "papermill": {
   "default_parameters": {},
   "duration": 12.311892,
   "end_time": "2023-04-30T23:21:51.168545",
   "environment_variables": {},
   "exception": null,
   "input_path": "__notebook__.ipynb",
   "output_path": "__notebook__.ipynb",
   "parameters": {},
   "start_time": "2023-04-30T23:21:38.856653",
   "version": "2.4.0"
  }
 },
 "nbformat": 4,
 "nbformat_minor": 5
}
