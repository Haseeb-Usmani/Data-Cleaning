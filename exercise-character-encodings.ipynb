{
 "cells": [
  {
   "cell_type": "markdown",
   "id": "58339ebb",
   "metadata": {
    "papermill": {
     "duration": 0.006938,
     "end_time": "2023-04-30T23:02:30.450169",
     "exception": false,
     "start_time": "2023-04-30T23:02:30.443231",
     "status": "completed"
    },
    "tags": []
   },
   "source": [
    "**This notebook is an exercise in the [Data Cleaning](https://www.kaggle.com/learn/data-cleaning) course.  You can reference the tutorial at [this link](https://www.kaggle.com/alexisbcook/character-encodings).**\n",
    "\n",
    "---\n"
   ]
  },
  {
   "cell_type": "markdown",
   "id": "53cc9bdb",
   "metadata": {
    "papermill": {
     "duration": 0.00469,
     "end_time": "2023-04-30T23:02:30.460125",
     "exception": false,
     "start_time": "2023-04-30T23:02:30.455435",
     "status": "completed"
    },
    "tags": []
   },
   "source": [
    "In this exercise, you'll apply what you learned in the **Character encodings** tutorial.\n",
    "\n",
    "# Setup\n",
    "\n",
    "The questions below will give you feedback on your work. Run the following cell to set up the feedback system."
   ]
  },
  {
   "cell_type": "code",
   "execution_count": 1,
   "id": "4ebbb7f8",
   "metadata": {
    "execution": {
     "iopub.execute_input": "2023-04-30T23:02:30.472518Z",
     "iopub.status.busy": "2023-04-30T23:02:30.472052Z",
     "iopub.status.idle": "2023-04-30T23:02:30.576271Z",
     "shell.execute_reply": "2023-04-30T23:02:30.575075Z"
    },
    "papermill": {
     "duration": 0.114063,
     "end_time": "2023-04-30T23:02:30.579192",
     "exception": false,
     "start_time": "2023-04-30T23:02:30.465129",
     "status": "completed"
    },
    "tags": []
   },
   "outputs": [
    {
     "name": "stdout",
     "output_type": "stream",
     "text": [
      "Setup Complete\n"
     ]
    }
   ],
   "source": [
    "from learntools.core import binder\n",
    "binder.bind(globals())\n",
    "from learntools.data_cleaning.ex4 import *\n",
    "print(\"Setup Complete\")"
   ]
  },
  {
   "cell_type": "markdown",
   "id": "644f0ebf",
   "metadata": {
    "papermill": {
     "duration": 0.005002,
     "end_time": "2023-04-30T23:02:30.589545",
     "exception": false,
     "start_time": "2023-04-30T23:02:30.584543",
     "status": "completed"
    },
    "tags": []
   },
   "source": [
    "# Get our environment set up\n",
    "\n",
    "The first thing we'll need to do is load in the libraries we'll be using."
   ]
  },
  {
   "cell_type": "code",
   "execution_count": 2,
   "id": "b813ff81",
   "metadata": {
    "execution": {
     "iopub.execute_input": "2023-04-30T23:02:30.603195Z",
     "iopub.status.busy": "2023-04-30T23:02:30.602376Z",
     "iopub.status.idle": "2023-04-30T23:02:30.608433Z",
     "shell.execute_reply": "2023-04-30T23:02:30.607227Z"
    },
    "papermill": {
     "duration": 0.016414,
     "end_time": "2023-04-30T23:02:30.611270",
     "exception": false,
     "start_time": "2023-04-30T23:02:30.594856",
     "status": "completed"
    },
    "tags": []
   },
   "outputs": [],
   "source": [
    "# modules we'll use\n",
    "import pandas as pd\n",
    "import numpy as np\n",
    "\n",
    "# helpful character encoding module\n",
    "import charset_normalizer\n",
    "\n",
    "# set seed for reproducibility\n",
    "np.random.seed(0)"
   ]
  },
  {
   "cell_type": "markdown",
   "id": "5b8582eb",
   "metadata": {
    "papermill": {
     "duration": 0.004846,
     "end_time": "2023-04-30T23:02:30.621322",
     "exception": false,
     "start_time": "2023-04-30T23:02:30.616476",
     "status": "completed"
    },
    "tags": []
   },
   "source": [
    "# 1) What are encodings?\n",
    "\n",
    "You're working with a dataset composed of bytes.  Run the code cell below to print a sample entry."
   ]
  },
  {
   "cell_type": "code",
   "execution_count": 3,
   "id": "ba906a9c",
   "metadata": {
    "execution": {
     "iopub.execute_input": "2023-04-30T23:02:30.634277Z",
     "iopub.status.busy": "2023-04-30T23:02:30.633510Z",
     "iopub.status.idle": "2023-04-30T23:02:30.640014Z",
     "shell.execute_reply": "2023-04-30T23:02:30.638479Z"
    },
    "papermill": {
     "duration": 0.016548,
     "end_time": "2023-04-30T23:02:30.643006",
     "exception": false,
     "start_time": "2023-04-30T23:02:30.626458",
     "status": "completed"
    },
    "tags": []
   },
   "outputs": [
    {
     "name": "stdout",
     "output_type": "stream",
     "text": [
      "b'\\xa7A\\xa6n'\n",
      "data type: <class 'bytes'>\n"
     ]
    }
   ],
   "source": [
    "sample_entry = b'\\xa7A\\xa6n'\n",
    "print(sample_entry)\n",
    "print('data type:', type(sample_entry))"
   ]
  },
  {
   "cell_type": "markdown",
   "id": "fc171802",
   "metadata": {
    "papermill": {
     "duration": 0.004905,
     "end_time": "2023-04-30T23:02:30.653202",
     "exception": false,
     "start_time": "2023-04-30T23:02:30.648297",
     "status": "completed"
    },
    "tags": []
   },
   "source": [
    "You notice that it doesn't use the standard UTF-8 encoding. \n",
    "\n",
    "Use the next code cell to create a variable `new_entry` that changes the encoding from `\"big5-tw\"` to `\"utf-8\"`.  `new_entry` should have the bytes datatype."
   ]
  },
  {
   "cell_type": "code",
   "execution_count": 4,
   "id": "1f7b02d7",
   "metadata": {
    "execution": {
     "iopub.execute_input": "2023-04-30T23:02:30.666499Z",
     "iopub.status.busy": "2023-04-30T23:02:30.664887Z",
     "iopub.status.idle": "2023-04-30T23:02:30.679037Z",
     "shell.execute_reply": "2023-04-30T23:02:30.677480Z"
    },
    "papermill": {
     "duration": 0.023818,
     "end_time": "2023-04-30T23:02:30.682133",
     "exception": false,
     "start_time": "2023-04-30T23:02:30.658315",
     "status": "completed"
    },
    "tags": []
   },
   "outputs": [
    {
     "data": {
      "application/javascript": [
       "parent.postMessage({\"jupyterEvent\": \"custom.exercise_interaction\", \"data\": {\"outcomeType\": 1, \"valueTowardsCompletion\": 0.3333333333333333, \"interactionType\": 1, \"questionType\": 1, \"questionId\": \"1_EncodingsIntro\", \"learnToolsVersion\": \"0.3.4\", \"failureMessage\": \"\", \"exceptionClass\": \"\", \"trace\": \"\"}}, \"*\")"
      ],
      "text/plain": [
       "<IPython.core.display.Javascript object>"
      ]
     },
     "metadata": {},
     "output_type": "display_data"
    },
    {
     "data": {
      "text/markdown": [
       "<span style=\"color:#33cc33\">Correct</span>"
      ],
      "text/plain": [
       "Correct"
      ]
     },
     "metadata": {},
     "output_type": "display_data"
    }
   ],
   "source": [
    "\n",
    "after=sample_entry.decode(\"big5-tw\")\n",
    "new_entry=after.encode()\n",
    "\n",
    "# Check your answer\n",
    "q1.check()"
   ]
  },
  {
   "cell_type": "code",
   "execution_count": 5,
   "id": "6afe8f71",
   "metadata": {
    "execution": {
     "iopub.execute_input": "2023-04-30T23:02:30.696158Z",
     "iopub.status.busy": "2023-04-30T23:02:30.694884Z",
     "iopub.status.idle": "2023-04-30T23:02:30.708746Z",
     "shell.execute_reply": "2023-04-30T23:02:30.707374Z"
    },
    "papermill": {
     "duration": 0.02415,
     "end_time": "2023-04-30T23:02:30.711796",
     "exception": false,
     "start_time": "2023-04-30T23:02:30.687646",
     "status": "completed"
    },
    "tags": []
   },
   "outputs": [
    {
     "data": {
      "application/javascript": [
       "parent.postMessage({\"jupyterEvent\": \"custom.exercise_interaction\", \"data\": {\"interactionType\": 2, \"questionType\": 1, \"questionId\": \"1_EncodingsIntro\", \"learnToolsVersion\": \"0.3.4\", \"valueTowardsCompletion\": 0.0, \"failureMessage\": \"\", \"exceptionClass\": \"\", \"trace\": \"\", \"outcomeType\": 4}}, \"*\")"
      ],
      "text/plain": [
       "<IPython.core.display.Javascript object>"
      ]
     },
     "metadata": {},
     "output_type": "display_data"
    },
    {
     "data": {
      "text/markdown": [
       "<span style=\"color:#3366cc\">Hint:</span> Try using `.decode()` to get the string, then `.encode()` to get the bytes representation, encoded in UTF-8."
      ],
      "text/plain": [
       "Hint: Try using `.decode()` to get the string, then `.encode()` to get the bytes representation, encoded in UTF-8."
      ]
     },
     "metadata": {},
     "output_type": "display_data"
    },
    {
     "data": {
      "application/javascript": [
       "parent.postMessage({\"jupyterEvent\": \"custom.exercise_interaction\", \"data\": {\"interactionType\": 3, \"questionType\": 1, \"questionId\": \"1_EncodingsIntro\", \"learnToolsVersion\": \"0.3.4\", \"valueTowardsCompletion\": 0.0, \"failureMessage\": \"\", \"exceptionClass\": \"\", \"trace\": \"\", \"outcomeType\": 4}}, \"*\")"
      ],
      "text/plain": [
       "<IPython.core.display.Javascript object>"
      ]
     },
     "metadata": {},
     "output_type": "display_data"
    },
    {
     "data": {
      "text/markdown": [
       "<span style=\"color:#33cc99\">Solution:</span> \n",
       "```python\n",
       "before = sample_entry.decode(\"big5-tw\")\n",
       "new_entry = before.encode()\n",
       "\n",
       "```"
      ],
      "text/plain": [
       "Solution: \n",
       "```python\n",
       "before = sample_entry.decode(\"big5-tw\")\n",
       "new_entry = before.encode()\n",
       "\n",
       "```"
      ]
     },
     "metadata": {},
     "output_type": "display_data"
    }
   ],
   "source": [
    "# Lines below will give you a hint or solution code\n",
    "q1.hint()\n",
    "q1.solution()"
   ]
  },
  {
   "cell_type": "markdown",
   "id": "222f2dc0",
   "metadata": {
    "papermill": {
     "duration": 0.005693,
     "end_time": "2023-04-30T23:02:30.723474",
     "exception": false,
     "start_time": "2023-04-30T23:02:30.717781",
     "status": "completed"
    },
    "tags": []
   },
   "source": [
    "# 2) Reading in files with encoding problems\n",
    "\n",
    "Use the code cell below to read in this file at path `\"../input/fatal-police-shootings-in-the-us/PoliceKillingsUS.csv\"`.  \n",
    "\n",
    "Figure out what the correct encoding should be and read in the file to a DataFrame `police_killings`."
   ]
  },
  {
   "cell_type": "code",
   "execution_count": 6,
   "id": "ea8455e0",
   "metadata": {
    "execution": {
     "iopub.execute_input": "2023-04-30T23:02:30.737422Z",
     "iopub.status.busy": "2023-04-30T23:02:30.736952Z",
     "iopub.status.idle": "2023-04-30T23:02:31.299846Z",
     "shell.execute_reply": "2023-04-30T23:02:31.298569Z"
    },
    "papermill": {
     "duration": 0.573099,
     "end_time": "2023-04-30T23:02:31.302572",
     "exception": false,
     "start_time": "2023-04-30T23:02:30.729473",
     "status": "completed"
    },
    "tags": []
   },
   "outputs": [
    {
     "data": {
      "application/javascript": [
       "parent.postMessage({\"jupyterEvent\": \"custom.exercise_interaction\", \"data\": {\"outcomeType\": 1, \"valueTowardsCompletion\": 0.3333333333333333, \"interactionType\": 1, \"questionType\": 1, \"questionId\": \"2_ReadIn\", \"learnToolsVersion\": \"0.3.4\", \"failureMessage\": \"\", \"exceptionClass\": \"\", \"trace\": \"\"}}, \"*\")"
      ],
      "text/plain": [
       "<IPython.core.display.Javascript object>"
      ]
     },
     "metadata": {},
     "output_type": "display_data"
    },
    {
     "data": {
      "text/markdown": [
       "<span style=\"color:#33cc33\">Correct</span>"
      ],
      "text/plain": [
       "Correct"
      ]
     },
     "metadata": {},
     "output_type": "display_data"
    }
   ],
   "source": [
    "# TODO: Load in the DataFrame correctly.\n",
    "with open(\"../input/fatal-police-shootings-in-the-us/PoliceKillingsUS.csv\",'rb') as rawdata:\n",
    "    raw = charset_normalizer.detect(rawdata.read(100000))\n",
    "\n",
    "police_killings =pd.read_csv(\"../input/fatal-police-shootings-in-the-us/PoliceKillingsUS.csv\",encoding='Windows-1250')\n",
    "# Check your answer\n",
    "q2.check()"
   ]
  },
  {
   "cell_type": "markdown",
   "id": "5abe470c",
   "metadata": {
    "papermill": {
     "duration": 0.006253,
     "end_time": "2023-04-30T23:02:31.314988",
     "exception": false,
     "start_time": "2023-04-30T23:02:31.308735",
     "status": "completed"
    },
    "tags": []
   },
   "source": [
    "Feel free to use any additional code cells for supplemental work.  To get credit for finishing this question, you'll need to run `q2.check()` and get a result of **Correct**."
   ]
  },
  {
   "cell_type": "code",
   "execution_count": 7,
   "id": "20e1b9be",
   "metadata": {
    "execution": {
     "iopub.execute_input": "2023-04-30T23:02:31.331123Z",
     "iopub.status.busy": "2023-04-30T23:02:31.329964Z",
     "iopub.status.idle": "2023-04-30T23:02:31.335689Z",
     "shell.execute_reply": "2023-04-30T23:02:31.334546Z"
    },
    "papermill": {
     "duration": 0.016692,
     "end_time": "2023-04-30T23:02:31.338989",
     "exception": false,
     "start_time": "2023-04-30T23:02:31.322297",
     "status": "completed"
    },
    "tags": []
   },
   "outputs": [],
   "source": [
    "# (Optional) Use this code cell for any additional work."
   ]
  },
  {
   "cell_type": "code",
   "execution_count": 8,
   "id": "fbd102d8",
   "metadata": {
    "execution": {
     "iopub.execute_input": "2023-04-30T23:02:31.353204Z",
     "iopub.status.busy": "2023-04-30T23:02:31.352692Z",
     "iopub.status.idle": "2023-04-30T23:02:31.358181Z",
     "shell.execute_reply": "2023-04-30T23:02:31.356781Z"
    },
    "papermill": {
     "duration": 0.015488,
     "end_time": "2023-04-30T23:02:31.360593",
     "exception": false,
     "start_time": "2023-04-30T23:02:31.345105",
     "status": "completed"
    },
    "tags": []
   },
   "outputs": [],
   "source": [
    "# Lines below will give you a hint or solution code\n",
    "#q2.hint()\n",
    "#q2.solution()"
   ]
  },
  {
   "cell_type": "markdown",
   "id": "fbb07a9e",
   "metadata": {
    "papermill": {
     "duration": 0.005697,
     "end_time": "2023-04-30T23:02:31.372478",
     "exception": false,
     "start_time": "2023-04-30T23:02:31.366781",
     "status": "completed"
    },
    "tags": []
   },
   "source": [
    "# 3) Saving your files with UTF-8 encoding\n",
    "\n",
    "Save a version of the police killings dataset to CSV with UTF-8 encoding.  Your answer will be marked correct after saving this file.  \n",
    "\n",
    "Note: When using the `to_csv()` method, supply only the name of the file (e.g., `\"my_file.csv\"`).  This saves the file at the filepath `\"/kaggle/working/my_file.csv\"`."
   ]
  },
  {
   "cell_type": "code",
   "execution_count": 9,
   "id": "714d84e6",
   "metadata": {
    "execution": {
     "iopub.execute_input": "2023-04-30T23:02:31.387096Z",
     "iopub.status.busy": "2023-04-30T23:02:31.386294Z",
     "iopub.status.idle": "2023-04-30T23:02:31.426882Z",
     "shell.execute_reply": "2023-04-30T23:02:31.425930Z"
    },
    "papermill": {
     "duration": 0.050863,
     "end_time": "2023-04-30T23:02:31.429491",
     "exception": false,
     "start_time": "2023-04-30T23:02:31.378628",
     "status": "completed"
    },
    "tags": []
   },
   "outputs": [
    {
     "data": {
      "application/javascript": [
       "parent.postMessage({\"jupyterEvent\": \"custom.exercise_interaction\", \"data\": {\"outcomeType\": 1, \"valueTowardsCompletion\": 0.3333333333333333, \"interactionType\": 1, \"questionType\": 2, \"questionId\": \"3_SaveCSV\", \"learnToolsVersion\": \"0.3.4\", \"failureMessage\": \"\", \"exceptionClass\": \"\", \"trace\": \"\"}}, \"*\")"
      ],
      "text/plain": [
       "<IPython.core.display.Javascript object>"
      ]
     },
     "metadata": {},
     "output_type": "display_data"
    },
    {
     "data": {
      "text/markdown": [
       "<span style=\"color:#33cc33\">Correct</span>"
      ],
      "text/plain": [
       "Correct"
      ]
     },
     "metadata": {},
     "output_type": "display_data"
    }
   ],
   "source": [
    "# TODO: Save the police killings dataset to CSV\n",
    "police_killings.to_csv(\"/kaggle/working/my_file.csv\")\n",
    "\n",
    "# Check your answer\n",
    "q3.check()"
   ]
  },
  {
   "cell_type": "code",
   "execution_count": 10,
   "id": "6d20b2d6",
   "metadata": {
    "execution": {
     "iopub.execute_input": "2023-04-30T23:02:31.444156Z",
     "iopub.status.busy": "2023-04-30T23:02:31.443672Z",
     "iopub.status.idle": "2023-04-30T23:02:31.448521Z",
     "shell.execute_reply": "2023-04-30T23:02:31.447460Z"
    },
    "papermill": {
     "duration": 0.015219,
     "end_time": "2023-04-30T23:02:31.451040",
     "exception": false,
     "start_time": "2023-04-30T23:02:31.435821",
     "status": "completed"
    },
    "tags": []
   },
   "outputs": [],
   "source": [
    "# Lines below will give you a hint or solution code\n",
    "#q3.hint()\n",
    "#q3.solution()"
   ]
  },
  {
   "cell_type": "markdown",
   "id": "fc534969",
   "metadata": {
    "papermill": {
     "duration": 0.006702,
     "end_time": "2023-04-30T23:02:31.464499",
     "exception": false,
     "start_time": "2023-04-30T23:02:31.457797",
     "status": "completed"
    },
    "tags": []
   },
   "source": [
    "# (Optional) More practice\n",
    "\n",
    "Check out [this dataset of files in different character encodings](https://www.kaggle.com/rtatman/character-encoding-examples). Can you read in all the files with their original encodings and them save them out as UTF-8 files?\n",
    "\n",
    "If you have a file that's in UTF-8 but has just a couple of weird-looking characters in it, you can try out the [ftfy module](https://ftfy.readthedocs.io/en/latest/#) and see if it helps. \n",
    "\n",
    "# Keep going\n",
    "\n",
    "In the final lesson, learn how to [**clean up inconsistent text entries**](https://www.kaggle.com/alexisbcook/inconsistent-data-entry) in your dataset."
   ]
  },
  {
   "cell_type": "markdown",
   "id": "f811a9c8",
   "metadata": {
    "papermill": {
     "duration": 0.005955,
     "end_time": "2023-04-30T23:02:31.476870",
     "exception": false,
     "start_time": "2023-04-30T23:02:31.470915",
     "status": "completed"
    },
    "tags": []
   },
   "source": [
    "---\n",
    "\n",
    "\n",
    "\n",
    "\n",
    "*Have questions or comments? Visit the [course discussion forum](https://www.kaggle.com/learn/data-cleaning/discussion) to chat with other learners.*"
   ]
  }
 ],
 "metadata": {
  "kernelspec": {
   "display_name": "Python 3",
   "language": "python",
   "name": "python3"
  },
  "language_info": {
   "codemirror_mode": {
    "name": "ipython",
    "version": 3
   },
   "file_extension": ".py",
   "mimetype": "text/x-python",
   "name": "python",
   "nbconvert_exporter": "python",
   "pygments_lexer": "ipython3",
   "version": "3.7.12"
  },
  "papermill": {
   "default_parameters": {},
   "duration": 13.995398,
   "end_time": "2023-04-30T23:02:32.206808",
   "environment_variables": {},
   "exception": null,
   "input_path": "__notebook__.ipynb",
   "output_path": "__notebook__.ipynb",
   "parameters": {},
   "start_time": "2023-04-30T23:02:18.211410",
   "version": "2.4.0"
  }
 },
 "nbformat": 4,
 "nbformat_minor": 5
}
